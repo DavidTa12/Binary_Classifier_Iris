{
 "cells": [
  {
   "cell_type": "code",
   "execution_count": 706,
   "metadata": {},
   "outputs": [],
   "source": [
    "import pandas as pd\n",
    "import numpy as np\n",
    "import matplotlib.pyplot as plt\n",
    "import seaborn as sb\n",
    "from sklearn.model_selection import cross_val_predict\n",
    "from sklearn import metrics\n",
    "from sklearn.metrics import confusion_matrix\n",
    "from sklearn.metrics import plot_confusion_matrix\n",
    "from sklearn.metrics import precision_recall_curve\n",
    "from sklearn.metrics import precision_score\n",
    "from sklearn.metrics import plot_precision_recall_curve\n",
    "from sklearn.metrics import recall_score\n",
    "from sklearn.metrics import f1_score\n",
    "import scikitplot as skplt\n",
    "from sklearn.metrics import roc_auc_score\n",
    "from sklearn.pipeline import make_pipeline\n",
    "from sklearn.preprocessing import StandardScaler\n",
    "from sklearn.datasets import make_classification"
   ]
  },
  {
   "cell_type": "code",
   "execution_count": 736,
   "metadata": {},
   "outputs": [],
   "source": [
    "from sklearn.datasets import load_iris\n",
    "iris = load_iris()\n",
    "# iris"
   ]
  },
  {
   "cell_type": "code",
   "execution_count": 708,
   "metadata": {},
   "outputs": [],
   "source": [
    "# Récupération du csv et placement dans un dataframe\n",
    "iris = pd.read_csv(\"C:\\\\Python39\\\\lib\\\\site-packages\\\\sklearn\\\\datasets\\\\data\\\\iris.csv\")"
   ]
  },
  {
   "cell_type": "code",
   "execution_count": 709,
   "metadata": {},
   "outputs": [],
   "source": [
    "# Ajouter les colonnes\n",
    "iris.columns = ['SepalLengthCm', 'SepalWidthCm', 'PetalLengthCm', 'PetalWidthCm', 'Species']"
   ]
  },
  {
   "cell_type": "code",
   "execution_count": 710,
   "metadata": {},
   "outputs": [
    {
     "name": "stdout",
     "output_type": "stream",
     "text": [
      "     SepalLengthCm  SepalWidthCm  PetalLengthCm  PetalWidthCm  Species\n",
      "0              5.1           3.5            1.4           0.2        0\n",
      "1              4.9           3.0            1.4           0.2        0\n",
      "2              4.7           3.2            1.3           0.2        0\n",
      "3              4.6           3.1            1.5           0.2        0\n",
      "4              5.0           3.6            1.4           0.2        0\n",
      "..             ...           ...            ...           ...      ...\n",
      "145            6.7           3.0            5.2           2.3        2\n",
      "146            6.3           2.5            5.0           1.9        2\n",
      "147            6.5           3.0            5.2           2.0        2\n",
      "148            6.2           3.4            5.4           2.3        2\n",
      "149            5.9           3.0            5.1           1.8        2\n",
      "\n",
      "[150 rows x 5 columns]\n"
     ]
    }
   ],
   "source": [
    "# Visualiser dataframe\n",
    "print(iris)"
   ]
  },
  {
   "cell_type": "code",
   "execution_count": 711,
   "metadata": {},
   "outputs": [],
   "source": [
    "# Mettre les vrais noms des Species / on définie que 0 = non virginica, 1 = virginica\n",
    "iris.loc[(iris.Species == 0),'Species']=0\n",
    "iris.loc[(iris.Species == 1),'Species']=0\n",
    "iris.loc[(iris.Species == 2),'Species']=1"
   ]
  },
  {
   "cell_type": "code",
   "execution_count": 712,
   "metadata": {},
   "outputs": [
    {
     "name": "stdout",
     "output_type": "stream",
     "text": [
      "     SepalLengthCm  SepalWidthCm  PetalLengthCm  PetalWidthCm  Species\n",
      "0              5.1           3.5            1.4           0.2        0\n",
      "1              4.9           3.0            1.4           0.2        0\n",
      "2              4.7           3.2            1.3           0.2        0\n",
      "3              4.6           3.1            1.5           0.2        0\n",
      "4              5.0           3.6            1.4           0.2        0\n",
      "5              5.4           3.9            1.7           0.4        0\n",
      "6              4.6           3.4            1.4           0.3        0\n",
      "7              5.0           3.4            1.5           0.2        0\n",
      "8              4.4           2.9            1.4           0.2        0\n",
      "9              4.9           3.1            1.5           0.1        0\n",
      "10             5.4           3.7            1.5           0.2        0\n",
      "11             4.8           3.4            1.6           0.2        0\n",
      "12             4.8           3.0            1.4           0.1        0\n",
      "13             4.3           3.0            1.1           0.1        0\n",
      "14             5.8           4.0            1.2           0.2        0\n",
      "15             5.7           4.4            1.5           0.4        0\n",
      "16             5.4           3.9            1.3           0.4        0\n",
      "17             5.1           3.5            1.4           0.3        0\n",
      "18             5.7           3.8            1.7           0.3        0\n",
      "19             5.1           3.8            1.5           0.3        0\n",
      "20             5.4           3.4            1.7           0.2        0\n",
      "21             5.1           3.7            1.5           0.4        0\n",
      "22             4.6           3.6            1.0           0.2        0\n",
      "23             5.1           3.3            1.7           0.5        0\n",
      "24             4.8           3.4            1.9           0.2        0\n",
      "25             5.0           3.0            1.6           0.2        0\n",
      "26             5.0           3.4            1.6           0.4        0\n",
      "27             5.2           3.5            1.5           0.2        0\n",
      "28             5.2           3.4            1.4           0.2        0\n",
      "29             4.7           3.2            1.6           0.2        0\n",
      "30             4.8           3.1            1.6           0.2        0\n",
      "31             5.4           3.4            1.5           0.4        0\n",
      "32             5.2           4.1            1.5           0.1        0\n",
      "33             5.5           4.2            1.4           0.2        0\n",
      "34             4.9           3.1            1.5           0.2        0\n",
      "35             5.0           3.2            1.2           0.2        0\n",
      "36             5.5           3.5            1.3           0.2        0\n",
      "37             4.9           3.6            1.4           0.1        0\n",
      "38             4.4           3.0            1.3           0.2        0\n",
      "39             5.1           3.4            1.5           0.2        0\n",
      "40             5.0           3.5            1.3           0.3        0\n",
      "41             4.5           2.3            1.3           0.3        0\n",
      "42             4.4           3.2            1.3           0.2        0\n",
      "43             5.0           3.5            1.6           0.6        0\n",
      "44             5.1           3.8            1.9           0.4        0\n",
      "45             4.8           3.0            1.4           0.3        0\n",
      "46             5.1           3.8            1.6           0.2        0\n",
      "47             4.6           3.2            1.4           0.2        0\n",
      "48             5.3           3.7            1.5           0.2        0\n",
      "49             5.0           3.3            1.4           0.2        0\n",
      "50             7.0           3.2            4.7           1.4        0\n",
      "51             6.4           3.2            4.5           1.5        0\n",
      "52             6.9           3.1            4.9           1.5        0\n",
      "53             5.5           2.3            4.0           1.3        0\n",
      "54             6.5           2.8            4.6           1.5        0\n",
      "55             5.7           2.8            4.5           1.3        0\n",
      "56             6.3           3.3            4.7           1.6        0\n",
      "57             4.9           2.4            3.3           1.0        0\n",
      "58             6.6           2.9            4.6           1.3        0\n",
      "59             5.2           2.7            3.9           1.4        0\n",
      "60             5.0           2.0            3.5           1.0        0\n",
      "61             5.9           3.0            4.2           1.5        0\n",
      "62             6.0           2.2            4.0           1.0        0\n",
      "63             6.1           2.9            4.7           1.4        0\n",
      "64             5.6           2.9            3.6           1.3        0\n",
      "65             6.7           3.1            4.4           1.4        0\n",
      "66             5.6           3.0            4.5           1.5        0\n",
      "67             5.8           2.7            4.1           1.0        0\n",
      "68             6.2           2.2            4.5           1.5        0\n",
      "69             5.6           2.5            3.9           1.1        0\n",
      "70             5.9           3.2            4.8           1.8        0\n",
      "71             6.1           2.8            4.0           1.3        0\n",
      "72             6.3           2.5            4.9           1.5        0\n",
      "73             6.1           2.8            4.7           1.2        0\n",
      "74             6.4           2.9            4.3           1.3        0\n",
      "75             6.6           3.0            4.4           1.4        0\n",
      "76             6.8           2.8            4.8           1.4        0\n",
      "77             6.7           3.0            5.0           1.7        0\n",
      "78             6.0           2.9            4.5           1.5        0\n",
      "79             5.7           2.6            3.5           1.0        0\n",
      "80             5.5           2.4            3.8           1.1        0\n",
      "81             5.5           2.4            3.7           1.0        0\n",
      "82             5.8           2.7            3.9           1.2        0\n",
      "83             6.0           2.7            5.1           1.6        0\n",
      "84             5.4           3.0            4.5           1.5        0\n",
      "85             6.0           3.4            4.5           1.6        0\n",
      "86             6.7           3.1            4.7           1.5        0\n",
      "87             6.3           2.3            4.4           1.3        0\n",
      "88             5.6           3.0            4.1           1.3        0\n",
      "89             5.5           2.5            4.0           1.3        0\n",
      "90             5.5           2.6            4.4           1.2        0\n",
      "91             6.1           3.0            4.6           1.4        0\n",
      "92             5.8           2.6            4.0           1.2        0\n",
      "93             5.0           2.3            3.3           1.0        0\n",
      "94             5.6           2.7            4.2           1.3        0\n",
      "95             5.7           3.0            4.2           1.2        0\n",
      "96             5.7           2.9            4.2           1.3        0\n",
      "97             6.2           2.9            4.3           1.3        0\n",
      "98             5.1           2.5            3.0           1.1        0\n",
      "99             5.7           2.8            4.1           1.3        0\n",
      "100            6.3           3.3            6.0           2.5        1\n",
      "101            5.8           2.7            5.1           1.9        1\n",
      "102            7.1           3.0            5.9           2.1        1\n",
      "103            6.3           2.9            5.6           1.8        1\n",
      "104            6.5           3.0            5.8           2.2        1\n",
      "105            7.6           3.0            6.6           2.1        1\n",
      "106            4.9           2.5            4.5           1.7        1\n",
      "107            7.3           2.9            6.3           1.8        1\n",
      "108            6.7           2.5            5.8           1.8        1\n",
      "109            7.2           3.6            6.1           2.5        1\n",
      "110            6.5           3.2            5.1           2.0        1\n",
      "111            6.4           2.7            5.3           1.9        1\n",
      "112            6.8           3.0            5.5           2.1        1\n",
      "113            5.7           2.5            5.0           2.0        1\n",
      "114            5.8           2.8            5.1           2.4        1\n",
      "115            6.4           3.2            5.3           2.3        1\n",
      "116            6.5           3.0            5.5           1.8        1\n",
      "117            7.7           3.8            6.7           2.2        1\n",
      "118            7.7           2.6            6.9           2.3        1\n",
      "119            6.0           2.2            5.0           1.5        1\n",
      "120            6.9           3.2            5.7           2.3        1\n",
      "121            5.6           2.8            4.9           2.0        1\n",
      "122            7.7           2.8            6.7           2.0        1\n",
      "123            6.3           2.7            4.9           1.8        1\n",
      "124            6.7           3.3            5.7           2.1        1\n",
      "125            7.2           3.2            6.0           1.8        1\n",
      "126            6.2           2.8            4.8           1.8        1\n",
      "127            6.1           3.0            4.9           1.8        1\n",
      "128            6.4           2.8            5.6           2.1        1\n",
      "129            7.2           3.0            5.8           1.6        1\n",
      "130            7.4           2.8            6.1           1.9        1\n",
      "131            7.9           3.8            6.4           2.0        1\n",
      "132            6.4           2.8            5.6           2.2        1\n",
      "133            6.3           2.8            5.1           1.5        1\n",
      "134            6.1           2.6            5.6           1.4        1\n",
      "135            7.7           3.0            6.1           2.3        1\n",
      "136            6.3           3.4            5.6           2.4        1\n",
      "137            6.4           3.1            5.5           1.8        1\n",
      "138            6.0           3.0            4.8           1.8        1\n",
      "139            6.9           3.1            5.4           2.1        1\n",
      "140            6.7           3.1            5.6           2.4        1\n",
      "141            6.9           3.1            5.1           2.3        1\n",
      "142            5.8           2.7            5.1           1.9        1\n",
      "143            6.8           3.2            5.9           2.3        1\n",
      "144            6.7           3.3            5.7           2.5        1\n",
      "145            6.7           3.0            5.2           2.3        1\n",
      "146            6.3           2.5            5.0           1.9        1\n",
      "147            6.5           3.0            5.2           2.0        1\n",
      "148            6.2           3.4            5.4           2.3        1\n",
      "149            5.9           3.0            5.1           1.8        1\n"
     ]
    }
   ],
   "source": [
    "print(iris.to_string())"
   ]
  },
  {
   "cell_type": "code",
   "execution_count": 713,
   "metadata": {},
   "outputs": [],
   "source": [
    "#iris.loc[iris['Species'] == 'virginica']"
   ]
  },
  {
   "cell_type": "code",
   "execution_count": 714,
   "metadata": {},
   "outputs": [],
   "source": [
    "from sklearn.model_selection import train_test_split\n",
    "x = iris.iloc[:, 0:4]\n",
    "y = iris.iloc[:, 4]\n",
    "x_train,x_test,y_train,y_test=train_test_split(x,y, test_size = 0.3,random_state=42)"
   ]
  },
  {
   "cell_type": "code",
   "execution_count": 715,
   "metadata": {},
   "outputs": [
    {
     "name": "stdout",
     "output_type": "stream",
     "text": [
      "105 45 105 45\n"
     ]
    }
   ],
   "source": [
    "print(len(x_train), len(x_test), len(y_train), len(y_test))\n",
    "# x_train = donnée sur laquelle je vais apprendre (ici 70%)\n",
    "# x_test = donnée sur laquelle je vais prédire (ici 30%)\n",
    "# y_train = résultat des données (ce que moi je donne, ici 0,1,2)\n",
    "# y_test = résultat réelles que je vais comparer avec les classes prédites de mon modèle"
   ]
  },
  {
   "cell_type": "code",
   "execution_count": 716,
   "metadata": {},
   "outputs": [
    {
     "data": {
      "text/plain": [
       "Pipeline(steps=[('standardscaler', StandardScaler()),\n",
       "                ('linearsvc', LinearSVC(random_state=0, tol=1e-05))])"
      ]
     },
     "execution_count": 716,
     "metadata": {},
     "output_type": "execute_result"
    }
   ],
   "source": [
    "from sklearn.svm import LinearSVC\n",
    "\n",
    "# clf = svm.LinearSVC(random_state=0)\n",
    "# clf.fit(x_train, y_train)\n",
    "# y_pred = clf.predict(x_test)\n",
    "\n",
    "# x, y = make_classification(n_features=4, random_state=0)\n",
    "clf = make_pipeline(StandardScaler(),\n",
    "                     LinearSVC(random_state=0, tol=1e-5))\n",
    "clf.fit(x_train, y_train)\n",
    "# y_pred = clf.predict(x_test)"
   ]
  },
  {
   "cell_type": "code",
   "execution_count": 717,
   "metadata": {},
   "outputs": [],
   "source": [
    "y_pred = cross_val_predict(clf, x_test, y_test)"
   ]
  },
  {
   "cell_type": "code",
   "execution_count": 718,
   "metadata": {},
   "outputs": [
    {
     "name": "stdout",
     "output_type": "stream",
     "text": [
      "[0 0 1 0 0 0 0 1 1 0 1 0 0 0 0 0 1 0 0 1 0 1 0 1 1 1 1 1 0 0 0 0 0 0 0 1 0\n",
      " 0 0 0 1 0 0 0 0]\n",
      "45\n"
     ]
    }
   ],
   "source": [
    "print(y_pred)\n",
    "print(len(y_pred))"
   ]
  },
  {
   "cell_type": "code",
   "execution_count": 719,
   "metadata": {},
   "outputs": [
    {
     "data": {
      "image/png": "[encoded data removed]",
      "text/plain": [
       "<Figure size 432x288 with 2 Axes>"
      ]
     },
     "metadata": {},
     "output_type": "display_data"
    }
   ],
   "source": [
    "cnfm = confusion_matrix(y_test, y_pred)\n",
    "sb.heatmap(cnfm, annot = True);\n",
    "# print(metrics.confusion_matrix(y_test, y_pred))"
   ]
  },
  {
   "cell_type": "code",
   "execution_count": 720,
   "metadata": {},
   "outputs": [
    {
     "name": "stdout",
     "output_type": "stream",
     "text": [
      "              precision    recall  f1-score   support\n",
      "\n",
      "           0       1.00      0.97      0.98        32\n",
      "           1       0.93      1.00      0.96        13\n",
      "\n",
      "    accuracy                           0.98        45\n",
      "   macro avg       0.96      0.98      0.97        45\n",
      "weighted avg       0.98      0.98      0.98        45\n",
      "\n"
     ]
    }
   ],
   "source": [
    "print(metrics.classification_report(y_test, y_pred))"
   ]
  },
  {
   "cell_type": "code",
   "execution_count": 721,
   "metadata": {},
   "outputs": [
    {
     "name": "stdout",
     "output_type": "stream",
     "text": [
      "0.9285714285714286\n"
     ]
    }
   ],
   "source": [
    "precision = precision_score(y_test, y_pred)\n",
    "print(precision)"
   ]
  },
  {
   "cell_type": "code",
   "execution_count": 722,
   "metadata": {},
   "outputs": [
    {
     "name": "stdout",
     "output_type": "stream",
     "text": [
      "1.0\n"
     ]
    }
   ],
   "source": [
    "recall = recall_score(y_test, y_pred)\n",
    "print(recall)"
   ]
  },
  {
   "cell_type": "code",
   "execution_count": 723,
   "metadata": {},
   "outputs": [
    {
     "name": "stdout",
     "output_type": "stream",
     "text": [
      "0.962962962962963\n"
     ]
    }
   ],
   "source": [
    "f1 = f1_score(y_test, y_pred)\n",
    "print(f1)"
   ]
  },
  {
   "cell_type": "code",
   "execution_count": 724,
   "metadata": {},
   "outputs": [],
   "source": [
    "precision, recall, thresholds = precision_recall_curve(y_test, y_pred)"
   ]
  },
  {
   "cell_type": "code",
   "execution_count": 725,
   "metadata": {},
   "outputs": [
    {
     "data": {
      "text/plain": [
       "array([0.92857143, 1.        ])"
      ]
     },
     "execution_count": 725,
     "metadata": {},
     "output_type": "execute_result"
    }
   ],
   "source": [
    "precision"
   ]
  },
  {
   "cell_type": "code",
   "execution_count": 726,
   "metadata": {},
   "outputs": [
    {
     "data": {
      "text/plain": [
       "array([1., 0.])"
      ]
     },
     "execution_count": 726,
     "metadata": {},
     "output_type": "execute_result"
    }
   ],
   "source": [
    "recall"
   ]
  },
  {
   "cell_type": "code",
   "execution_count": 727,
   "metadata": {},
   "outputs": [
    {
     "data": {
      "text/plain": [
       "array([1], dtype=int64)"
      ]
     },
     "execution_count": 727,
     "metadata": {},
     "output_type": "execute_result"
    }
   ],
   "source": [
    "thresholds"
   ]
  },
  {
   "cell_type": "code",
   "execution_count": 741,
   "metadata": {
    "scrolled": true
   },
   "outputs": [
    {
     "data": {
      "image/png": "[encoded data removed]",
      "text/plain": [
       "<Figure size 432x288 with 1 Axes>"
      ]
     },
     "metadata": {},
     "output_type": "display_data"
    }
   ],
   "source": [
    "disp = plot_precision_recall_curve(clf, x_train, y_train)"
   ]
  },
  {
   "cell_type": "code",
   "execution_count": 740,
   "metadata": {},
   "outputs": [
    {
     "data": {
      "text/plain": [
       "0.9985999999999999"
      ]
     },
     "execution_count": 740,
     "metadata": {},
     "output_type": "execute_result"
    }
   ],
   "source": [
    "roc_auc_score(y, clf.decision_function(x))"
   ]
  },
  {
   "cell_type": "code",
   "execution_count": 742,
   "metadata": {},
   "outputs": [
    {
     "data": {
      "image/png": "[encoded data removed]",
      "text/plain": [
       "<Figure size 432x288 with 1 Axes>"
      ]
     },
     "metadata": {},
     "output_type": "display_data"
    }
   ],
   "source": [
    "metrics.plot_roc_curve(clf, x_train, y_train)  \n",
    "plt.show()"
   ]
  },
  {
   "cell_type": "code",
   "execution_count": null,
   "metadata": {},
   "outputs": [],
   "source": []
  }
 ],
 "metadata": {
  "kernelspec": {
   "display_name": "Python 3",
   "language": "python",
   "name": "python3"
  },
  "language_info": {
   "codemirror_mode": {
    "name": "ipython",
    "version": 3
   },
   "file_extension": ".py",
   "mimetype": "text/x-python",
   "name": "python",
   "nbconvert_exporter": "python",
   "pygments_lexer": "ipython3",
   "version": "3.9.0"
  }
 },
 "nbformat": 4,
 "nbformat_minor": 4
}
